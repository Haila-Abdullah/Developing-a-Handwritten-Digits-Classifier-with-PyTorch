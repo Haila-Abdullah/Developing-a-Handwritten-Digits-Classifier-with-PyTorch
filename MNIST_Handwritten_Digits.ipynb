{
  "cells": [
    {
      "cell_type": "markdown",
      "metadata": {
        "id": "ZPwtziu_huvR"
      },
      "source": [
        "# Introduction\n",
        "\n",
        "In this project, you will build a neural network of your own design to evaluate the MNIST dataset.\n",
        "\n",
        "Some of the benchmark results on MNIST include can be found [on Yann LeCun's page](https://webcache.googleusercontent.com/search?q=cache:stAVPik6onEJ:yann.lecun.com/exdb/mnist) and include:\n",
        "\n",
        "88% [Lecun et al., 1998](https://hal.science/hal-03926082/document)\n",
        "\n",
        "95.3% [Lecun et al., 1998](https://hal.science/hal-03926082v1/document)\n",
        "\n",
        "99.65% [Ciresan et al., 2011](http://people.idsia.ch/~juergen/ijcai2011.pdf)\n",
        "\n",
        "\n",
        "MNIST is a great dataset for sanity checking your models, since the accuracy levels achieved by large convolutional neural networks and small linear models are both quite high. This makes it important to be familiar with the data.\n",
        "\n",
        "## Installation"
      ]
    },
    {
      "cell_type": "code",
      "execution_count": 1,
      "metadata": {
        "colab": {
          "base_uri": "https://localhost:8080/"
        },
        "id": "uxGVWVTNhuvV",
        "outputId": "9339f864-c83a-44cd-b381-e8ab4a013550"
      },
      "outputs": [
        {
          "output_type": "stream",
          "name": "stdout",
          "text": [
            "Collecting ipywidgets==8.1.5 (from -r requirements.txt (line 1))\n",
            "  Downloading ipywidgets-8.1.5-py3-none-any.whl.metadata (2.3 kB)\n",
            "Collecting comm>=0.1.3 (from ipywidgets==8.1.5->-r requirements.txt (line 1))\n",
            "  Downloading comm-0.2.2-py3-none-any.whl.metadata (3.7 kB)\n",
            "Requirement already satisfied: ipython>=6.1.0 in /usr/local/lib/python3.11/dist-packages (from ipywidgets==8.1.5->-r requirements.txt (line 1)) (7.34.0)\n",
            "Requirement already satisfied: traitlets>=4.3.1 in /usr/local/lib/python3.11/dist-packages (from ipywidgets==8.1.5->-r requirements.txt (line 1)) (5.7.1)\n",
            "Collecting widgetsnbextension~=4.0.12 (from ipywidgets==8.1.5->-r requirements.txt (line 1))\n",
            "  Downloading widgetsnbextension-4.0.14-py3-none-any.whl.metadata (1.6 kB)\n",
            "Requirement already satisfied: jupyterlab-widgets~=3.0.12 in /usr/local/lib/python3.11/dist-packages (from ipywidgets==8.1.5->-r requirements.txt (line 1)) (3.0.15)\n",
            "Requirement already satisfied: setuptools>=18.5 in /usr/local/lib/python3.11/dist-packages (from ipython>=6.1.0->ipywidgets==8.1.5->-r requirements.txt (line 1)) (75.2.0)\n",
            "Collecting jedi>=0.16 (from ipython>=6.1.0->ipywidgets==8.1.5->-r requirements.txt (line 1))\n",
            "  Downloading jedi-0.19.2-py2.py3-none-any.whl.metadata (22 kB)\n",
            "Requirement already satisfied: decorator in /usr/local/lib/python3.11/dist-packages (from ipython>=6.1.0->ipywidgets==8.1.5->-r requirements.txt (line 1)) (4.4.2)\n",
            "Requirement already satisfied: pickleshare in /usr/local/lib/python3.11/dist-packages (from ipython>=6.1.0->ipywidgets==8.1.5->-r requirements.txt (line 1)) (0.7.5)\n",
            "Requirement already satisfied: prompt-toolkit!=3.0.0,!=3.0.1,<3.1.0,>=2.0.0 in /usr/local/lib/python3.11/dist-packages (from ipython>=6.1.0->ipywidgets==8.1.5->-r requirements.txt (line 1)) (3.0.51)\n",
            "Requirement already satisfied: pygments in /usr/local/lib/python3.11/dist-packages (from ipython>=6.1.0->ipywidgets==8.1.5->-r requirements.txt (line 1)) (2.19.1)\n",
            "Requirement already satisfied: backcall in /usr/local/lib/python3.11/dist-packages (from ipython>=6.1.0->ipywidgets==8.1.5->-r requirements.txt (line 1)) (0.2.0)\n",
            "Requirement already satisfied: matplotlib-inline in /usr/local/lib/python3.11/dist-packages (from ipython>=6.1.0->ipywidgets==8.1.5->-r requirements.txt (line 1)) (0.1.7)\n",
            "Requirement already satisfied: pexpect>4.3 in /usr/local/lib/python3.11/dist-packages (from ipython>=6.1.0->ipywidgets==8.1.5->-r requirements.txt (line 1)) (4.9.0)\n",
            "Requirement already satisfied: parso<0.9.0,>=0.8.4 in /usr/local/lib/python3.11/dist-packages (from jedi>=0.16->ipython>=6.1.0->ipywidgets==8.1.5->-r requirements.txt (line 1)) (0.8.4)\n",
            "Requirement already satisfied: ptyprocess>=0.5 in /usr/local/lib/python3.11/dist-packages (from pexpect>4.3->ipython>=6.1.0->ipywidgets==8.1.5->-r requirements.txt (line 1)) (0.7.0)\n",
            "Requirement already satisfied: wcwidth in /usr/local/lib/python3.11/dist-packages (from prompt-toolkit!=3.0.0,!=3.0.1,<3.1.0,>=2.0.0->ipython>=6.1.0->ipywidgets==8.1.5->-r requirements.txt (line 1)) (0.2.13)\n",
            "Downloading ipywidgets-8.1.5-py3-none-any.whl (139 kB)\n",
            "\u001b[2K   \u001b[90m━━━━━━━━━━━━━━━━━━━━━━━━━━━━━━━━━━━━━━━━\u001b[0m \u001b[32m139.8/139.8 kB\u001b[0m \u001b[31m4.0 MB/s\u001b[0m eta \u001b[36m0:00:00\u001b[0m\n",
            "\u001b[?25hDownloading comm-0.2.2-py3-none-any.whl (7.2 kB)\n",
            "Downloading widgetsnbextension-4.0.14-py3-none-any.whl (2.2 MB)\n",
            "\u001b[2K   \u001b[90m━━━━━━━━━━━━━━━━━━━━━━━━━━━━━━━━━━━━━━━━\u001b[0m \u001b[32m2.2/2.2 MB\u001b[0m \u001b[31m37.0 MB/s\u001b[0m eta \u001b[36m0:00:00\u001b[0m\n",
            "\u001b[?25hDownloading jedi-0.19.2-py2.py3-none-any.whl (1.6 MB)\n",
            "\u001b[2K   \u001b[90m━━━━━━━━━━━━━━━━━━━━━━━━━━━━━━━━━━━━━━━━\u001b[0m \u001b[32m1.6/1.6 MB\u001b[0m \u001b[31m66.7 MB/s\u001b[0m eta \u001b[36m0:00:00\u001b[0m\n",
            "\u001b[?25hInstalling collected packages: widgetsnbextension, jedi, comm, ipywidgets\n",
            "  Attempting uninstall: widgetsnbextension\n",
            "    Found existing installation: widgetsnbextension 3.6.10\n",
            "    Uninstalling widgetsnbextension-3.6.10:\n",
            "      Successfully uninstalled widgetsnbextension-3.6.10\n",
            "  Attempting uninstall: ipywidgets\n",
            "    Found existing installation: ipywidgets 7.7.1\n",
            "    Uninstalling ipywidgets-7.7.1:\n",
            "      Successfully uninstalled ipywidgets-7.7.1\n",
            "Successfully installed comm-0.2.2 ipywidgets-8.1.5 jedi-0.19.2 widgetsnbextension-4.0.14\n"
          ]
        }
      ],
      "source": [
        "# Restart the Kernel after you execute this command.\n",
        "\n",
        "!python -m pip install -r requirements.txt"
      ]
    },
    {
      "cell_type": "markdown",
      "metadata": {
        "id": "-X-Vp_G9huvW"
      },
      "source": [
        "**Important: Restart the Kernel at this moment**"
      ]
    },
    {
      "cell_type": "markdown",
      "metadata": {
        "id": "GaNAj-f_huvX"
      },
      "source": [
        "## Imports"
      ]
    },
    {
      "cell_type": "code",
      "execution_count": 2,
      "metadata": {
        "id": "QhSSbFGYhuvY"
      },
      "outputs": [],
      "source": [
        "## This cell contains the essential imports you will need – DO NOT CHANGE THE CONTENTS! ##\n",
        "import torch\n",
        "import torch.nn as nn\n",
        "import torch.nn.functional as F\n",
        "import torch.optim as optim\n",
        "import torchvision\n",
        "import torchvision.transforms as transforms\n",
        "import matplotlib.pyplot as plt\n",
        "import numpy as np"
      ]
    },
    {
      "cell_type": "markdown",
      "metadata": {
        "id": "FZL_HyKphuva"
      },
      "source": [
        "## Load the Dataset\n",
        "\n",
        "Specify your transforms as a list if you intend to .\n",
        "The transforms module is already loaded as `transforms`.\n",
        "\n",
        "MNIST is fortunately included in the torchvision module.\n",
        "Then, you can create your dataset using the `MNIST` object from `torchvision.datasets` ([the documentation is available here](https://pytorch.org/vision/stable/datasets.html#mnist)).\n",
        "Make sure to specify `download=True`!\n",
        "\n",
        "Once your dataset is created, you'll also need to define a `DataLoader` from the `torch.utils.data` module for both the train and the test set."
      ]
    },
    {
      "cell_type": "code",
      "execution_count": 3,
      "metadata": {
        "colab": {
          "base_uri": "https://localhost:8080/"
        },
        "id": "Kbuz8Z1-huvb",
        "outputId": "03d99e8e-eba7-4130-b43b-0e0be849be82"
      },
      "outputs": [
        {
          "output_type": "stream",
          "name": "stderr",
          "text": [
            "100%|██████████| 9.91M/9.91M [00:00<00:00, 56.6MB/s]\n",
            "100%|██████████| 28.9k/28.9k [00:00<00:00, 1.74MB/s]\n",
            "100%|██████████| 1.65M/1.65M [00:00<00:00, 13.0MB/s]\n",
            "100%|██████████| 4.54k/4.54k [00:00<00:00, 7.23MB/s]\n"
          ]
        }
      ],
      "source": [
        "# Define transforms\n",
        "transform = transforms.Compose([transforms.ToTensor(),transforms.Normalize((0.5,),(0.5,))])\n",
        "\n",
        "# Create training set and define training dataloader\n",
        "training_data = torchvision.datasets.MNIST(root=\"data\",train=True,download=True,transform=transform)\n",
        "train_loader = torch.utils.data.DataLoader(training_data,batch_size=32,shuffle=True)\n",
        "\n",
        "# Create test set and define test dataloader\n",
        "test_data = torchvision.datasets.MNIST(root=\"data\",train=False,download=True,transform=transform)\n",
        "test_loader = torch.utils.data.DataLoader(test_data,batch_size=32)"
      ]
    },
    {
      "cell_type": "markdown",
      "metadata": {
        "id": "KQu8TGIxhuvc"
      },
      "source": [
        "## Justify your preprocessing\n",
        "\n",
        "In your own words, why did you choose the transforms you chose? If you didn't use any preprocessing steps, why not?"
      ]
    },
    {
      "cell_type": "markdown",
      "metadata": {
        "id": "jtgzfcHvhuvc"
      },
      "source": [
        "\n",
        "I used ToTensor to convert the MNIST images into a format that the model can work with. I used Normalize to help speed up and improve the model training process because MNIST images are grayscale with one channel. It normalizes the pixel distribution to have a mean of zero and a standard deviation of one."
      ]
    },
    {
      "cell_type": "markdown",
      "metadata": {
        "id": "S03sxkGlhuvd"
      },
      "source": [
        "## Explore the Dataset\n",
        "Using matplotlib, numpy, and torch, explore the dimensions of your data.\n",
        "\n",
        "You can view images using the `show5` function defined below – it takes a data loader as an argument.\n",
        "Remember that normalized images will look really weird to you! You may want to try changing your transforms to view images.\n",
        "Typically using no transforms other than `toTensor()` works well for viewing – but not as well for training your network.\n",
        "If `show5` doesn't work, go back and check your code for creating your data loaders and your training/test sets."
      ]
    },
    {
      "cell_type": "code",
      "execution_count": 4,
      "metadata": {
        "id": "Lc3GcDVBhuve"
      },
      "outputs": [],
      "source": [
        "## This cell contains a function for showing 5 images from a dataloader – DO NOT CHANGE THE CONTENTS! ##\n",
        "def show5(img_loader):\n",
        "    dataiter = iter(img_loader)\n",
        "\n",
        "    batch = next(dataiter)\n",
        "    labels = batch[1][0:5]\n",
        "    images = batch[0][0:5]\n",
        "    for i in range(5):\n",
        "        print(int(labels[i].detach()))\n",
        "\n",
        "        image = images[i].numpy()\n",
        "        plt.imshow(image.T.squeeze().T)\n",
        "        plt.show()"
      ]
    },
    {
      "cell_type": "code",
      "execution_count": 5,
      "metadata": {
        "colab": {
          "base_uri": "https://localhost:8080/",
          "height": 1000
        },
        "id": "xumIoie4huvf",
        "outputId": "e8925425-7652-4c47-da5c-fb5452a8bfd8"
      },
      "outputs": [
        {
          "output_type": "stream",
          "name": "stdout",
          "text": [
            "Image batch shape: torch.Size([32, 1, 28, 28])\n",
            "Labels batch shape: torch.Size([32])\n",
            "Image tensor dtype: torch.float32\n",
            "Label tensor dtype: torch.int64\n",
            "7\n"
          ]
        },
        {
          "output_type": "display_data",
          "data": {
            "text/plain": [
              "<Figure size 640x480 with 1 Axes>"
            ],
            "image/png": "[encoded data removed]"
          },
          "metadata": {}
        },
        {
          "output_type": "stream",
          "name": "stdout",
          "text": [
            "0\n"
          ]
        },
        {
          "output_type": "display_data",
          "data": {
            "text/plain": [
              "<Figure size 640x480 with 1 Axes>"
            ],
            "image/png": "[encoded data removed]"
          },
          "metadata": {}
        },
        {
          "output_type": "stream",
          "name": "stdout",
          "text": [
            "4\n"
          ]
        },
        {
          "output_type": "display_data",
          "data": {
            "text/plain": [
              "<Figure size 640x480 with 1 Axes>"
            ],
            "image/png": "[encoded data removed]"
          },
          "metadata": {}
        },
        {
          "output_type": "stream",
          "name": "stdout",
          "text": [
            "9\n"
          ]
        },
        {
          "output_type": "display_data",
          "data": {
            "text/plain": [
              "<Figure size 640x480 with 1 Axes>"
            ],
            "image/png": "[encoded data removed]"
          },
          "metadata": {}
        },
        {
          "output_type": "stream",
          "name": "stdout",
          "text": [
            "6\n"
          ]
        },
        {
          "output_type": "display_data",
          "data": {
            "text/plain": [
              "<Figure size 640x480 with 1 Axes>"
            ],
            "image/png": "[encoded data removed]"
          },
          "metadata": {}
        }
      ],
      "source": [
        "# Explore data\n",
        "view_transform = transforms.ToTensor()\n",
        "\n",
        "view_data = torchvision.datasets.MNIST(root=\"data\",train=True,download=True,transform=view_transform)\n",
        "view_loader = torch.utils.data.DataLoader(view_data,batch_size=32,shuffle=True)\n",
        "\n",
        "dataiter = iter(view_loader)\n",
        "images,labels = next(dataiter)\n",
        "\n",
        "print(\"Image batch shape:\",images.shape)\n",
        "print(\"Labels batch shape:\",labels.shape)\n",
        "print(\"Image tensor dtype:\",images.dtype)\n",
        "print(\"Label tensor dtype:\",labels.dtype)\n",
        "\n",
        "show5(view_loader)"
      ]
    },
    {
      "cell_type": "markdown",
      "metadata": {
        "id": "la2Qb5KAhuvf"
      },
      "source": [
        "## Build your Neural Network\n",
        "Using the layers in `torch.nn` (which has been imported as `nn`) and the `torch.nn.functional` module (imported as `F`), construct a neural network based on the parameters of the dataset.\n",
        "Use any architecture you like.\n",
        "\n",
        "*Note*: If you did not flatten your tensors in your transforms or as part of your preprocessing and you are using only `Linear` layers, make sure to use the `Flatten` layer in your network!"
      ]
    },
    {
      "cell_type": "code",
      "execution_count": 6,
      "metadata": {
        "id": "hTfm0-iEhuvg",
        "colab": {
          "base_uri": "https://localhost:8080/"
        },
        "outputId": "07f9cd88-ad09-4e8c-ffab-942284d58255"
      },
      "outputs": [
        {
          "output_type": "stream",
          "name": "stdout",
          "text": [
            "HandwrittenDigits(\n",
            "  (fc1): Linear(in_features=784, out_features=128, bias=True)\n",
            "  (fc2): Linear(in_features=128, out_features=64, bias=True)\n",
            "  (fc3): Linear(in_features=64, out_features=10, bias=True)\n",
            ")\n"
          ]
        }
      ],
      "source": [
        "# Define the class for your neural network\n",
        "class HandwrittenDigits(nn.Module):\n",
        "  def __init__(self):\n",
        "    super().__init__()\n",
        "    self.fc1 = nn.Linear(28*28,128)\n",
        "    self.fc2 = nn.Linear(128,64)\n",
        "    self.fc3 = nn.Linear(64,10)\n",
        "\n",
        "  def forward(self,x):\n",
        "    x = torch.flatten(x,1)\n",
        "    x = F.relu(self.fc1(x))\n",
        "    x = F.relu(self.fc2(x))\n",
        "    x = self.fc3(x)\n",
        "    return x\n",
        "\n",
        "# Instantiate the model\n",
        "model = HandwrittenDigits()\n",
        "print(model)"
      ]
    },
    {
      "cell_type": "markdown",
      "metadata": {
        "id": "4MChPFKchuvg"
      },
      "source": [
        "Specify a loss function and an optimizer, and instantiate the model.\n",
        "\n",
        "If you use a less common loss function, please note why you chose that loss function in a comment."
      ]
    },
    {
      "cell_type": "code",
      "execution_count": 7,
      "metadata": {
        "id": "ZrzxyFZdhuvh"
      },
      "outputs": [],
      "source": [
        "# choose an optimizer\n",
        "optimizer = optim.Adam(model.parameters(),lr=0.001)\n",
        "\n",
        "# choose a loss function\n",
        "criterion= nn.CrossEntropyLoss()"
      ]
    },
    {
      "cell_type": "markdown",
      "metadata": {
        "id": "fyyYjapIhuvh"
      },
      "source": [
        "## Running your Neural Network\n",
        "Use whatever method you like to train your neural network, and ensure you record the average loss at each epoch.\n",
        "Don't forget to use `torch.device()` and the `.to()` method for both your model and your data if you are using GPU!\n",
        "\n",
        "If you want to print your loss **during** each epoch, you can use the `enumerate` function and print the loss after a set number of batches. 250 batches works well for most people!"
      ]
    },
    {
      "cell_type": "code",
      "execution_count": 8,
      "metadata": {
        "id": "cTmpeyt-huvi",
        "colab": {
          "base_uri": "https://localhost:8080/"
        },
        "outputId": "cf273e02-1b21-4416-8538-f2697c63088e"
      },
      "outputs": [
        {
          "output_type": "stream",
          "name": "stdout",
          "text": [
            "Epoch 1 Training Accuracy:89.52% training Loss:0.34634\n",
            "Epoch 1 Validation Accuracy:94.16% validation Loss:0.18880\n",
            "Epoch 2 Training Accuracy:94.80% training Loss:0.16848\n",
            "Epoch 2 Validation Accuracy:95.59% validation Loss:0.13536\n",
            "Epoch 3 Training Accuracy:96.19% training Loss:0.12434\n",
            "Epoch 3 Validation Accuracy:96.04% validation Loss:0.13293\n",
            "Epoch 4 Training Accuracy:96.82% training Loss:0.10400\n",
            "Epoch 4 Validation Accuracy:96.05% validation Loss:0.12906\n",
            "Epoch 5 Training Accuracy:97.19% training Loss:0.08919\n",
            "Epoch 5 Validation Accuracy:96.61% validation Loss:0.11507\n",
            "Epoch 6 Training Accuracy:97.44% training Loss:0.07797\n",
            "Epoch 6 Validation Accuracy:97.00% validation Loss:0.09704\n",
            "Epoch 7 Training Accuracy:97.75% training Loss:0.07146\n",
            "Epoch 7 Validation Accuracy:96.83% validation Loss:0.10475\n",
            "Epoch 8 Training Accuracy:97.84% training Loss:0.06701\n",
            "Epoch 8 Validation Accuracy:97.11% validation Loss:0.09388\n",
            "Epoch 9 Training Accuracy:98.08% training Loss:0.05828\n",
            "Epoch 9 Validation Accuracy:96.88% validation Loss:0.11035\n",
            "Epoch 10 Training Accuracy:98.16% training Loss:0.05466\n",
            "Epoch 10 Validation Accuracy:97.13% validation Loss:0.10781\n"
          ]
        }
      ],
      "source": [
        "device = torch.device(\"cuda\" if torch.cuda.is_available() else \"cpu\")\n",
        "model.to(device)\n",
        "\n",
        "num_epochs = 10\n",
        "train_loss_history = list()\n",
        "val_loss_history = list()\n",
        "\n",
        "for epoch in range(num_epochs):\n",
        "  model.train()\n",
        "  train_loss = 0.0\n",
        "  train_correct = 0\n",
        "  for i, data in enumerate(train_loader):\n",
        "    inputs,labels = data\n",
        "\n",
        "    inputs,labels = inputs.to(device),labels.to(device)\n",
        "\n",
        "    optimizer.zero_grad()\n",
        "\n",
        "    outputs = model(inputs)\n",
        "    loss = criterion(outputs,labels)\n",
        "    loss.backward()\n",
        "    optimizer.step()\n",
        "\n",
        "    _,preds = torch.max(outputs.data,1)\n",
        "    train_correct += (preds == labels).float().mean().item()\n",
        "    train_loss += loss.item()\n",
        "  print(f'Epoch {epoch+1} Training Accuracy:{train_correct/len(train_loader)*100:.2f}% training Loss:{train_loss/len(train_loader):.5f}')\n",
        "  train_loss_history.append(train_loss/len(train_loader))\n",
        "\n",
        "  val_loss = 0.0\n",
        "  val_correct = 0\n",
        "  model.eval()\n",
        "  for inputs,labels in test_loader:\n",
        "    inputs,labels = inputs.to(device),labels.to(device)\n",
        "    outputs = model(inputs)\n",
        "    loss = criterion(outputs,labels)\n",
        "\n",
        "    _,preds = torch.max(outputs.data,1)\n",
        "    val_correct += (preds==labels).float().mean().item()\n",
        "    val_loss += loss.item()\n",
        "  print(f'Epoch {epoch+1} Validation Accuracy:{val_correct/len(test_loader)*100:.2f}% validation Loss:{val_loss/len(test_loader):.5f}')\n",
        "  val_loss_history.append(val_loss/len(test_loader))\n"
      ]
    },
    {
      "cell_type": "markdown",
      "metadata": {
        "id": "9Y9Z1d3ghuvi"
      },
      "source": [
        "Plot the training loss (and validation loss/accuracy, if recorded)."
      ]
    },
    {
      "cell_type": "code",
      "execution_count": 9,
      "metadata": {
        "id": "ew_ICumMhuvi",
        "colab": {
          "base_uri": "https://localhost:8080/",
          "height": 564
        },
        "outputId": "6a5e2986-02a0-44ab-d3ce-f73639dd48b6"
      },
      "outputs": [
        {
          "output_type": "display_data",
          "data": {
            "text/plain": [
              "<Figure size 800x600 with 1 Axes>"
            ],
            "image/png": "[encoded data removed]"
          },
          "metadata": {}
        }
      ],
      "source": [
        "plt.figure(figsize=(8,6))\n",
        "plt.plot(train_loss_history,label=\"Training Loss\")\n",
        "plt.plot(val_loss_history,label=\"Validation Loss\")\n",
        "plt.xlabel(\"Epoch\")\n",
        "plt.ylabel(\"Loss\")\n",
        "plt.title(\"Training vs Validation Loss\")\n",
        "plt.legend()\n",
        "plt.show()"
      ]
    },
    {
      "cell_type": "markdown",
      "metadata": {
        "id": "gCZNM6Bwhuvj"
      },
      "source": [
        "## Testing your model\n",
        "Using the previously created `DataLoader` for the test set, compute the percentage of correct predictions using the highest probability prediction.\n",
        "\n",
        "If your accuracy is over 90%, great work, but see if you can push a bit further!\n",
        "If your accuracy is under 90%, you'll need to make improvements.\n",
        "Go back and check your model architecture, loss function, and optimizer to make sure they're appropriate for an image classification task."
      ]
    },
    {
      "cell_type": "code",
      "execution_count": 10,
      "metadata": {
        "id": "tswWCtZ_huvj",
        "colab": {
          "base_uri": "https://localhost:8080/"
        },
        "outputId": "6adbc524-2d15-4ac4-9b32-6bec3ad2b738"
      },
      "outputs": [
        {
          "output_type": "stream",
          "name": "stdout",
          "text": [
            "Test Accuracy:97.13%\n"
          ]
        }
      ],
      "source": [
        "model.eval()\n",
        "test_correct = 0\n",
        "\n",
        "with torch.no_grad():\n",
        "  for inputs ,labels in test_loader:\n",
        "    inputs ,labels = inputs.to(device),labels.to(device)\n",
        "    outputs = model(inputs)\n",
        "    _,preds = torch.max(outputs,1)\n",
        "    test_correct += (preds==labels).sum().item()\n",
        "\n",
        "test_accuracy = test_correct/len(test_loader.dataset)*100\n",
        "print(f\"Test Accuracy:{test_accuracy:.2f}%\")"
      ]
    },
    {
      "cell_type": "markdown",
      "metadata": {
        "id": "P_djTVrghuvj"
      },
      "source": [
        "## Improving your model\n",
        "\n",
        "Once your model is done training, try tweaking your hyperparameters and training again below to improve your accuracy on the test set!"
      ]
    },
    {
      "cell_type": "code",
      "execution_count": 12,
      "metadata": {
        "id": "49Ja3aUThuvj",
        "colab": {
          "base_uri": "https://localhost:8080/",
          "height": 1000
        },
        "outputId": "0d119438-d239-4dc6-e9da-d68b5e011f36"
      },
      "outputs": [
        {
          "output_type": "stream",
          "name": "stdout",
          "text": [
            "Epoch 1 Training Accuracy:84.57% training Loss:0.49597\n",
            "Epoch 1 Validation Accuracy:92.97% validation Loss:0.22043\n",
            "Epoch 2 Training Accuracy:93.27% training Loss:0.22043\n",
            "Epoch 2 Validation Accuracy:94.79% validation Loss:0.16504\n",
            "Epoch 3 Training Accuracy:94.71% training Loss:0.17212\n",
            "Epoch 3 Validation Accuracy:96.14% validation Loss:0.11938\n",
            "Epoch 4 Training Accuracy:95.59% training Loss:0.14272\n",
            "Epoch 4 Validation Accuracy:96.72% validation Loss:0.10597\n",
            "Epoch 5 Training Accuracy:96.15% training Loss:0.12571\n",
            "Epoch 5 Validation Accuracy:96.76% validation Loss:0.09994\n",
            "Epoch 6 Training Accuracy:96.43% training Loss:0.11470\n",
            "Epoch 6 Validation Accuracy:97.18% validation Loss:0.09178\n",
            "Epoch 7 Training Accuracy:96.75% training Loss:0.10408\n",
            "Epoch 7 Validation Accuracy:97.06% validation Loss:0.09395\n",
            "Epoch 8 Training Accuracy:96.99% training Loss:0.09758\n",
            "Epoch 8 Validation Accuracy:97.42% validation Loss:0.07782\n",
            "Epoch 9 Training Accuracy:97.30% training Loss:0.08797\n",
            "Epoch 9 Validation Accuracy:97.27% validation Loss:0.09028\n",
            "Epoch 10 Training Accuracy:97.40% training Loss:0.08350\n",
            "Epoch 10 Validation Accuracy:97.59% validation Loss:0.07678\n",
            "Epoch 11 Training Accuracy:97.53% training Loss:0.07888\n",
            "Epoch 11 Validation Accuracy:97.94% validation Loss:0.07015\n",
            "Epoch 12 Training Accuracy:97.59% training Loss:0.07674\n",
            "Epoch 12 Validation Accuracy:97.73% validation Loss:0.07333\n",
            "Epoch 13 Training Accuracy:97.66% training Loss:0.07435\n",
            "Epoch 13 Validation Accuracy:97.92% validation Loss:0.07454\n",
            "Epoch 14 Training Accuracy:97.78% training Loss:0.06916\n",
            "Epoch 14 Validation Accuracy:97.80% validation Loss:0.06724\n",
            "Epoch 15 Training Accuracy:97.88% training Loss:0.06613\n",
            "Epoch 15 Validation Accuracy:98.07% validation Loss:0.06770\n"
          ]
        },
        {
          "output_type": "display_data",
          "data": {
            "text/plain": [
              "<Figure size 800x600 with 1 Axes>"
            ],
            "image/png": "[encoded data removed]"
          },
          "metadata": {}
        },
        {
          "output_type": "stream",
          "name": "stdout",
          "text": [
            "Test Accuracy:98.06%\n"
          ]
        }
      ],
      "source": [
        "# Create training set and define training dataloader\n",
        "training_data = torchvision.datasets.MNIST(root=\"data\",train=True,download=True,transform=transform)\n",
        "train_loader = torch.utils.data.DataLoader(training_data,batch_size=64,shuffle=True)\n",
        "\n",
        "# Create test set and define test dataloader\n",
        "test_data = torchvision.datasets.MNIST(root=\"data\",train=False,download=True,transform=transform)\n",
        "test_loader = torch.utils.data.DataLoader(test_data,batch_size=64)\n",
        "\n",
        "# Define the class for your neural network\n",
        "class HandwrittenDigits(nn.Module):\n",
        "  def __init__(self):\n",
        "    super().__init__()\n",
        "    self.fc1 = nn.Linear(28*28,256)\n",
        "    self.fc2 = nn.Linear(256,128)\n",
        "    self.fc3 = nn.Linear(128,64)\n",
        "    self.fc4 = nn.Linear(64,10)\n",
        "    self.droupout = nn.Dropout(0.2)\n",
        "\n",
        "  def forward(self,x):\n",
        "    x = torch.flatten(x,1)\n",
        "    x = F.relu(self.fc1(x))\n",
        "    x = self.droupout(x)\n",
        "    x = F.relu(self.fc2(x))\n",
        "    x = self.droupout(x)\n",
        "    x = F.relu(self.fc3(x))\n",
        "    x = self.fc4(x)\n",
        "    return x\n",
        "\n",
        "# Instantiate the model\n",
        "model = HandwrittenDigits()\n",
        "\n",
        "\n",
        "# choose an optimizer\n",
        "optimizer = optim.Adam(model.parameters(),lr=0.0005)\n",
        "\n",
        "# choose a loss function\n",
        "criterion= nn.CrossEntropyLoss()\n",
        "\n",
        "# Running Neural Network\n",
        "device = torch.device(\"cuda\" if torch.cuda.is_available() else \"cpu\")\n",
        "model.to(device)\n",
        "\n",
        "num_epochs = 15\n",
        "train_loss_history = list()\n",
        "val_loss_history = list()\n",
        "\n",
        "for epoch in range(num_epochs):\n",
        "  model.train()\n",
        "  train_loss = 0.0\n",
        "  train_correct = 0\n",
        "  for i, data in enumerate(train_loader):\n",
        "    inputs,labels = data\n",
        "\n",
        "    inputs,labels = inputs.to(device),labels.to(device)\n",
        "\n",
        "    optimizer.zero_grad()\n",
        "\n",
        "    outputs = model(inputs)\n",
        "    loss = criterion(outputs,labels)\n",
        "    loss.backward()\n",
        "    optimizer.step()\n",
        "\n",
        "    _,preds = torch.max(outputs.data,1)\n",
        "    train_correct += (preds == labels).float().mean().item()\n",
        "    train_loss += loss.item()\n",
        "  print(f'Epoch {epoch+1} Training Accuracy:{train_correct/len(train_loader)*100:.2f}% training Loss:{train_loss/len(train_loader):.5f}')\n",
        "  train_loss_history.append(train_loss/len(train_loader))\n",
        "\n",
        "  val_loss = 0.0\n",
        "  val_correct = 0\n",
        "  model.eval()\n",
        "  for inputs,labels in test_loader:\n",
        "    inputs,labels = inputs.to(device),labels.to(device)\n",
        "    outputs = model(inputs)\n",
        "    loss = criterion(outputs,labels)\n",
        "\n",
        "    _,preds = torch.max(outputs.data,1)\n",
        "    val_correct += (preds==labels).float().mean().item()\n",
        "    val_loss += loss.item()\n",
        "  print(f'Epoch {epoch+1} Validation Accuracy:{val_correct/len(test_loader)*100:.2f}% validation Loss:{val_loss/len(test_loader):.5f}')\n",
        "  val_loss_history.append(val_loss/len(test_loader))\n",
        "\n",
        "\n",
        "# Plot the training loss and validation loss/accuracy\n",
        "plt.figure(figsize=(8,6))\n",
        "plt.plot(train_loss_history,label=\"Training Loss\")\n",
        "plt.plot(val_loss_history,label=\"Validation Loss\")\n",
        "plt.xlabel(\"Epoch\")\n",
        "plt.ylabel(\"Loss\")\n",
        "plt.title(\"Training vs Validation Loss After Tweaking\")\n",
        "plt.legend()\n",
        "plt.show()\n",
        "\n",
        "\n",
        "# testing model\n",
        "model.eval()\n",
        "test_correct = 0\n",
        "\n",
        "with torch.no_grad():\n",
        "  for inputs ,labels in test_loader:\n",
        "    inputs ,labels = inputs.to(device),labels.to(device)\n",
        "    outputs = model(inputs)\n",
        "    _,preds = torch.max(outputs,1)\n",
        "    test_correct += (preds==labels).sum().item()\n",
        "\n",
        "test_accuracy = test_correct/len(test_loader.dataset)*100\n",
        "print(f\"Test Accuracy:{test_accuracy:.2f}%\")\n"
      ]
    },
    {
      "cell_type": "markdown",
      "metadata": {
        "id": "dl51EODlhuvk"
      },
      "source": [
        "## Saving your model\n",
        "Using `torch.save`, save your model for future loading."
      ]
    },
    {
      "cell_type": "code",
      "execution_count": 13,
      "metadata": {
        "id": "4-pYFEU-huvk"
      },
      "outputs": [],
      "source": [
        "torch.save(model.state_dict(),\"MNIST_Handwritten_Digits.pth\")"
      ]
    }
  ],
  "metadata": {
    "kernelspec": {
      "display_name": "Python 3",
      "language": "python",
      "name": "python3"
    },
    "language_info": {
      "codemirror_mode": {
        "name": "ipython",
        "version": 3
      },
      "file_extension": ".py",
      "mimetype": "text/x-python",
      "name": "python",
      "nbconvert_exporter": "python",
      "pygments_lexer": "ipython3",
      "version": "3.7.6"
    },
    "colab": {
      "provenance": []
    }
  },
  "nbformat": 4,
  "nbformat_minor": 0
}